{
  "nbformat": 4,
  "nbformat_minor": 0,
  "metadata": {
    "colab": {
      "name": "TCC - CRNN Test",
      "provenance": [],
      "collapsed_sections": [],
      "toc_visible": true
    },
    "kernelspec": {
      "name": "python3",
      "display_name": "Python 3"
    },
    "language_info": {
      "name": "python"
    }
  },
  "cells": [
    {
      "cell_type": "code",
      "metadata": {
        "colab": {
          "base_uri": "https://localhost:8080/"
        },
        "id": "3JPNgmUS5m9Q",
        "outputId": "e9196be9-10a4-4034-eafb-275eb601fd68"
      },
      "source": [
        "!curl -LO https://github.com/chsponciano/pocket-parkinson-dataset/raw/main/dataset.zip\n",
        "!unzip -qq dataset.zip"
      ],
      "execution_count": 1,
      "outputs": [
        {
          "output_type": "stream",
          "text": [
            "  % Total    % Received % Xferd  Average Speed   Time    Time     Time  Current\n",
            "                                 Dload  Upload   Total   Spent    Left  Speed\n",
            "100   153    0   153    0     0    326      0 --:--:-- --:--:-- --:--:--   326\n",
            "100 6958k  100 6958k    0     0  4917k      0  0:00:01  0:00:01 --:--:-- 25.0M\n"
          ],
          "name": "stdout"
        }
      ]
    },
    {
      "cell_type": "code",
      "metadata": {
        "id": "02bGf13F5oC2"
      },
      "source": [
        "import os\n",
        "import numpy as np\n",
        "import keras"
      ],
      "execution_count": 2,
      "outputs": []
    },
    {
      "cell_type": "code",
      "metadata": {
        "id": "426aZk__5pfN"
      },
      "source": [
        "_rotation = 20 \n",
        "_zoom = 0.5\n",
        "_flip = True\n",
        "_batch_size = 32\n",
        "_random_state = 42\n",
        "_input_shape = (150, 150, 1)\n",
        "_dropout = 0.6\n",
        "_alpha = 1e-5\n",
        "_epochs = 10\n",
        "_hidden_unit = 32\n",
        "_kernel_size = 3\n",
        "_trainable_layer = 'block5_conv1'"
      ],
      "execution_count": 3,
      "outputs": []
    },
    {
      "cell_type": "markdown",
      "metadata": {
        "id": "3hw_G64E5tpU"
      },
      "source": [
        "# Data preparation"
      ]
    },
    {
      "cell_type": "code",
      "metadata": {
        "id": "4-Tq73Pi5rYx"
      },
      "source": [
        "from PIL import Image\n",
        "\n",
        "def select_image(filename):\n",
        "    _image = Image.open(filename)\n",
        "    _image = _image.convert('RGB')\n",
        "    _image = _image.resize((150,150))\n",
        "    return np.asarray(_image)"
      ],
      "execution_count": 4,
      "outputs": []
    },
    {
      "cell_type": "code",
      "metadata": {
        "id": "5Wl1DCZQ5xbV"
      },
      "source": [
        "def load_class(directory, label_class, images, labels):\n",
        "    for filename in os.listdir(directory):\n",
        "        _path = directory + filename\n",
        "        images.append(_path)\n",
        "        labels.append(label_class)\n",
        "    return images, labels"
      ],
      "execution_count": 5,
      "outputs": []
    },
    {
      "cell_type": "code",
      "metadata": {
        "id": "9m_RDxJh5y3s"
      },
      "source": [
        "def select_dataset(directory):\n",
        "    _images = list()\n",
        "    _labels = list()\n",
        "    for subdir in os.listdir(directory):\n",
        "        _path = directory + subdir + '/'\n",
        "        if not os.path.isdir(_path):\n",
        "            continue\n",
        "        _images, _labels = load_class(_path, subdir, _images, _labels)\n",
        "    return _images, _labels"
      ],
      "execution_count": 6,
      "outputs": []
    },
    {
      "cell_type": "code",
      "metadata": {
        "colab": {
          "base_uri": "https://localhost:8080/"
        },
        "id": "sl8P-co751Rx",
        "outputId": "d3be71ca-b514-4ac2-f6aa-6814c798d3f4"
      },
      "source": [
        "_images, _labels = select_dataset('./data/')\n",
        "print(len(_images), len(_labels))"
      ],
      "execution_count": 7,
      "outputs": [
        {
          "output_type": "stream",
          "text": [
            "5220 5220\n"
          ],
          "name": "stdout"
        }
      ]
    },
    {
      "cell_type": "code",
      "metadata": {
        "id": "VobjzP2S53SA"
      },
      "source": [
        "from sklearn.preprocessing import LabelBinarizer\n",
        "\n",
        "_labelBinarizer = LabelBinarizer()"
      ],
      "execution_count": 8,
      "outputs": []
    },
    {
      "cell_type": "code",
      "metadata": {
        "id": "dZIQfAI_54br"
      },
      "source": [
        "from keras.utils import to_categorical\n",
        "\n",
        "def normalize(images, labels):\n",
        "    labels = np.array(labels)\n",
        "    labels = _labelBinarizer.fit_transform(labels)\n",
        "    labels = to_categorical(labels)\n",
        "    return images, labels\n",
        "\n",
        "_images, _labels = normalize(_images, _labels)"
      ],
      "execution_count": 9,
      "outputs": []
    },
    {
      "cell_type": "markdown",
      "metadata": {
        "id": "AC8TWaGRFnmT"
      },
      "source": [
        "# Download models"
      ]
    },
    {
      "cell_type": "code",
      "metadata": {
        "colab": {
          "base_uri": "https://localhost:8080/"
        },
        "id": "tOUeX6L8FsfC",
        "outputId": "3c92870f-e1cc-4386-ac09-e8cf0dccb8b5"
      },
      "source": [
        "!curl -LO https://github.com/chsponciano/pocket-parkinson-classifier/raw/main/models/CRNN_BiGRU.hdf5"
      ],
      "execution_count": 13,
      "outputs": [
        {
          "output_type": "stream",
          "text": [
            "  % Total    % Received % Xferd  Average Speed   Time    Time     Time  Current\n",
            "                                 Dload  Upload   Total   Spent    Left  Speed\n",
            "100   167    0   167    0     0    479      0 --:--:-- --:--:-- --:--:--   479\n",
            "100 24.2M  100 24.2M    0     0  6857k      0  0:00:03  0:00:03 --:--:-- 11.7M\n"
          ],
          "name": "stdout"
        }
      ]
    },
    {
      "cell_type": "code",
      "metadata": {
        "colab": {
          "base_uri": "https://localhost:8080/"
        },
        "id": "YPHJPWVJGLpm",
        "outputId": "83700537-c5a9-476e-aadc-5ef1298204c9"
      },
      "source": [
        "!curl -LO https://github.com/chsponciano/pocket-parkinson-classifier/raw/main/models/CRNN_BiLSTM.hdf5"
      ],
      "execution_count": 14,
      "outputs": [
        {
          "output_type": "stream",
          "text": [
            "  % Total    % Received % Xferd  Average Speed   Time    Time     Time  Current\n",
            "                                 Dload  Upload   Total   Spent    Left  Speed\n",
            "100   168    0   168    0     0    482      0 --:--:-- --:--:-- --:--:--   482\n",
            "100 27.6M  100 27.6M    0     0  8797k      0  0:00:03  0:00:03 --:--:-- 16.6M\n"
          ],
          "name": "stdout"
        }
      ]
    },
    {
      "cell_type": "code",
      "metadata": {
        "colab": {
          "base_uri": "https://localhost:8080/"
        },
        "id": "Stjg9anMGmq_",
        "outputId": "319090ea-d890-4bf6-faad-7bf112d040c2"
      },
      "source": [
        "!curl -LO https://github.com/chsponciano/pocket-parkinson-classifier/raw/main/models/CRNN_GRU.hdf5"
      ],
      "execution_count": 15,
      "outputs": [
        {
          "output_type": "stream",
          "text": [
            "  % Total    % Received % Xferd  Average Speed   Time    Time     Time  Current\n",
            "                                 Dload  Upload   Total   Spent    Left  Speed\n",
            "100   165  100   165    0     0    457      0 --:--:-- --:--:-- --:--:--   457\n",
            "100 19.0M  100 19.0M    0     0  7282k      0  0:00:02  0:00:02 --:--:-- 17.0M\n"
          ],
          "name": "stdout"
        }
      ]
    },
    {
      "cell_type": "code",
      "metadata": {
        "colab": {
          "base_uri": "https://localhost:8080/"
        },
        "id": "_0Ebmi-JGpjn",
        "outputId": "358e4d8d-f537-4894-e56d-52daa23c3c33"
      },
      "source": [
        "!curl -LO https://github.com/chsponciano/pocket-parkinson-classifier/raw/main/models/CRNN_LSTM.hdf5"
      ],
      "execution_count": 16,
      "outputs": [
        {
          "output_type": "stream",
          "text": [
            "  % Total    % Received % Xferd  Average Speed   Time    Time     Time  Current\n",
            "                                 Dload  Upload   Total   Spent    Left  Speed\n",
            "100   166  100   166    0     0    475      0 --:--:-- --:--:-- --:--:--   474\n",
            "100 20.7M  100 20.7M    0     0  4978k      0  0:00:04  0:00:04 --:--:-- 7825k\n"
          ],
          "name": "stdout"
        }
      ]
    },
    {
      "cell_type": "code",
      "metadata": {
        "colab": {
          "base_uri": "https://localhost:8080/"
        },
        "id": "n3cd7IXnGquZ",
        "outputId": "77f7b3fe-d1cb-440d-a0b1-93c2124827cc"
      },
      "source": [
        "!curl -LO https://github.com/chsponciano/pocket-parkinson-classifier/raw/main/models/CRNN_GRU_GRU.hdf5"
      ],
      "execution_count": 17,
      "outputs": [
        {
          "output_type": "stream",
          "text": [
            "  % Total    % Received % Xferd  Average Speed   Time    Time     Time  Current\n",
            "                                 Dload  Upload   Total   Spent    Left  Speed\n",
            "100   169    0   169    0     0    485      0 --:--:-- --:--:-- --:--:--   484\n",
            "100 24.3M  100 24.3M    0     0  6696k      0  0:00:03  0:00:03 --:--:-- 11.2M\n"
          ],
          "name": "stdout"
        }
      ]
    },
    {
      "cell_type": "code",
      "metadata": {
        "colab": {
          "base_uri": "https://localhost:8080/"
        },
        "id": "UB2U-hiSGs-1",
        "outputId": "e9027113-c072-48f2-c3d8-e0687175d92f"
      },
      "source": [
        "!curl -LO https://github.com/chsponciano/pocket-parkinson-classifier/raw/main/models/CRNN_LSTM_LSTM.hdf5"
      ],
      "execution_count": 18,
      "outputs": [
        {
          "output_type": "stream",
          "text": [
            "  % Total    % Received % Xferd  Average Speed   Time    Time     Time  Current\n",
            "                                 Dload  Upload   Total   Spent    Left  Speed\n",
            "100   171  100   171    0     0    502      0 --:--:-- --:--:-- --:--:--   501\n",
            "100 27.8M  100 27.8M    0     0  8474k      0  0:00:03  0:00:03 --:--:-- 15.3M\n"
          ],
          "name": "stdout"
        }
      ]
    },
    {
      "cell_type": "markdown",
      "metadata": {
        "id": "w9dxOEWkG2Z3"
      },
      "source": [
        "# Testing the models"
      ]
    },
    {
      "cell_type": "code",
      "metadata": {
        "id": "0vF6W-NIPi27"
      },
      "source": [
        "from IPython.display import HTML, display\n",
        "\n",
        "def progress_bar(title, subtitle, hits, errors, value, max):\n",
        "    return HTML(\"\"\"\n",
        "        <h3>{title}</h3>\n",
        "        <p>{subtitle}</p>\n",
        "        <p>Hits: {hits} - Errors: {errors}</p>\n",
        "        <progress value='{value}' max='{max}', style='width: 90%'>{value}</progress>\"\"\"\n",
        "    .format(title=title, subtitle=subtitle, hits=hits, errors=errors, value=value, max=max))"
      ],
      "execution_count": 10,
      "outputs": []
    },
    {
      "cell_type": "code",
      "metadata": {
        "id": "t6HVfwX-Gucf"
      },
      "source": [
        "_models = ['CRNN_GRU', 'CRNN_GRU_GRU', 'CRNN_BiGRU', 'CRNN_LSTM', 'CRNN_LSTM_LSTM', 'CRNN_BiLSTM']"
      ],
      "execution_count": 11,
      "outputs": []
    },
    {
      "cell_type": "code",
      "metadata": {
        "id": "GZ5ZK7FKH0bs"
      },
      "source": [
        "_results = {}"
      ],
      "execution_count": 12,
      "outputs": []
    },
    {
      "cell_type": "code",
      "metadata": {
        "colab": {
          "base_uri": "https://localhost:8080/",
          "height": 654
        },
        "id": "8IM0SMLFH6dM",
        "outputId": "36eab019-f39a-4562-f8e7-99922dc170fd"
      },
      "source": [
        "from keras.models import load_model\n",
        "\n",
        "_size = len(_images)\n",
        "\n",
        "for model_name in _models:\n",
        "  _panel = display(progress_bar, display_id=True)\n",
        "  _panel.update(progress_bar(model_name, f'Testing the model {model_name}', 0, 0, 0, _size))\n",
        "  _results[model_name] = { 'hits': 0, 'errors': 0  }\n",
        "  _model = load_model(f'/content/{model_name}.hdf5')\n",
        "\n",
        "  for i in range(0, _size):\n",
        "    _image = np.array([select_image(_images[i])]) / 255.0\n",
        "    _predict = _model.predict(_image)[0]\n",
        "    _predict = 0 if _predict[0] > _predict[1] else 1\n",
        "    _results[model_name]['hits' if _labels[i][_predict] == 1.0 else 'errors'] += 1\n",
        "    _panel.update(progress_bar(model_name, f'Testing the model {model_name}', _results[model_name]['hits'], _results[model_name]['errors'], i, _size))"
      ],
      "execution_count": 13,
      "outputs": [
        {
          "output_type": "display_data",
          "data": {
            "text/html": [
              "\n",
              "        <h3>CRNN_GRU</h3>\n",
              "        <p>Testing the model CRNN_GRU</p>\n",
              "        <p>Hits: 5198 - Errors: 22</p>\n",
              "        <progress value='5219' max='5220', style='width: 90%'>5219</progress>"
            ],
            "text/plain": [
              "<IPython.core.display.HTML object>"
            ]
          },
          "metadata": {
            "tags": []
          }
        },
        {
          "output_type": "display_data",
          "data": {
            "text/html": [
              "\n",
              "        <h3>CRNN_GRU_GRU</h3>\n",
              "        <p>Testing the model CRNN_GRU_GRU</p>\n",
              "        <p>Hits: 5216 - Errors: 4</p>\n",
              "        <progress value='5219' max='5220', style='width: 90%'>5219</progress>"
            ],
            "text/plain": [
              "<IPython.core.display.HTML object>"
            ]
          },
          "metadata": {
            "tags": []
          }
        },
        {
          "output_type": "display_data",
          "data": {
            "text/html": [
              "\n",
              "        <h3>CRNN_BiGRU</h3>\n",
              "        <p>Testing the model CRNN_BiGRU</p>\n",
              "        <p>Hits: 5194 - Errors: 26</p>\n",
              "        <progress value='5219' max='5220', style='width: 90%'>5219</progress>"
            ],
            "text/plain": [
              "<IPython.core.display.HTML object>"
            ]
          },
          "metadata": {
            "tags": []
          }
        },
        {
          "output_type": "display_data",
          "data": {
            "text/html": [
              "\n",
              "        <h3>CRNN_LSTM</h3>\n",
              "        <p>Testing the model CRNN_LSTM</p>\n",
              "        <p>Hits: 5073 - Errors: 147</p>\n",
              "        <progress value='5219' max='5220', style='width: 90%'>5219</progress>"
            ],
            "text/plain": [
              "<IPython.core.display.HTML object>"
            ]
          },
          "metadata": {
            "tags": []
          }
        },
        {
          "output_type": "display_data",
          "data": {
            "text/html": [
              "\n",
              "        <h3>CRNN_LSTM_LSTM</h3>\n",
              "        <p>Testing the model CRNN_LSTM_LSTM</p>\n",
              "        <p>Hits: 5200 - Errors: 20</p>\n",
              "        <progress value='5219' max='5220', style='width: 90%'>5219</progress>"
            ],
            "text/plain": [
              "<IPython.core.display.HTML object>"
            ]
          },
          "metadata": {
            "tags": []
          }
        },
        {
          "output_type": "display_data",
          "data": {
            "text/html": [
              "\n",
              "        <h3>CRNN_BiLSTM</h3>\n",
              "        <p>Testing the model CRNN_BiLSTM</p>\n",
              "        <p>Hits: 5202 - Errors: 18</p>\n",
              "        <progress value='5219' max='5220', style='width: 90%'>5219</progress>"
            ],
            "text/plain": [
              "<IPython.core.display.HTML object>"
            ]
          },
          "metadata": {
            "tags": []
          }
        }
      ]
    },
    {
      "cell_type": "code",
      "metadata": {
        "colab": {
          "base_uri": "https://localhost:8080/",
          "height": 472
        },
        "id": "L4S1eGJ4szN6",
        "outputId": "c0d08a33-a634-4125-c8a4-6ab03f03da78"
      },
      "source": [
        "import matplotlib.pyplot as plt\n",
        "plt.rcdefaults()\n",
        "\n",
        "_y_pos = np.arange(len(_models))\n",
        "plt.barh(_y_pos, [_results[m]['errors'] for m in _models], align='center', alpha=0.5)\n",
        "plt.yticks(_y_pos, _models)\n",
        "plt.xlabel('Errors')\n",
        "plt.title('Errors the models')\n",
        "plt.show()"
      ],
      "execution_count": 22,
      "outputs": [
        {
          "output_type": "display_data",
          "data": {
            "image/png": "[encoded data removed]",
            "text/plain": [
              "<Figure size 640x480 with 1 Axes>"
            ]
          },
          "metadata": {
            "tags": []
          }
        }
      ]
    }
  ]
}