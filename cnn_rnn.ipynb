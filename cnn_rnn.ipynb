{
  "nbformat": 4,
  "nbformat_minor": 0,
  "metadata": {
    "colab": {
      "name": "TCC - CNN with RNN",
      "provenance": [],
      "collapsed_sections": [],
      "toc_visible": true
    },
    "kernelspec": {
      "display_name": "Python 3",
      "name": "python3"
    }
  },
  "cells": [
    {
      "cell_type": "code",
      "metadata": {
        "colab": {
          "base_uri": "https://localhost:8080/"
        },
        "id": "AIhXcR4ZMnMV",
        "outputId": "17362297-d333-409a-8b43-746103fa54f0"
      },
      "source": [
        "!curl -LO https://github.com/chsponciano/pocket-parkinson-dataset/raw/main/dataset.zip\r\n",
        "!unzip -qq dataset.zip"
      ],
      "execution_count": null,
      "outputs": [
        {
          "output_type": "stream",
          "text": [
            "  % Total    % Received % Xferd  Average Speed   Time    Time     Time  Current\n",
            "                                 Dload  Upload   Total   Spent    Left  Speed\n",
            "100   153  100   153    0     0    508      0 --:--:-- --:--:-- --:--:--   510\n",
            "100 6958k  100 6958k    0     0  7916k      0 --:--:-- --:--:-- --:--:-- 7916k\n"
          ],
          "name": "stdout"
        }
      ]
    },
    {
      "cell_type": "code",
      "metadata": {
        "id": "-U9MO8mrKirB"
      },
      "source": [
        "import os\r\n",
        "import numpy as np\r\n",
        "import keras"
      ],
      "execution_count": null,
      "outputs": []
    },
    {
      "cell_type": "code",
      "metadata": {
        "id": "4Vi7v_QWKwaL"
      },
      "source": [
        "_rotation = 20 \r\n",
        "_zoom = 0.5\r\n",
        "_flip = True\r\n",
        "_batch_size = 32\r\n",
        "_random_state = 42\r\n",
        "_input_shape = (150, 150, 3)\r\n",
        "_dropout = 0.6\r\n",
        "_alpha = 1e-5\r\n",
        "_epochs = 10\r\n",
        "_hidden_unit = 32\r\n",
        "_kernel_size = 3\r\n",
        "_trainable_layer = 'block5_conv1'"
      ],
      "execution_count": null,
      "outputs": []
    },
    {
      "cell_type": "markdown",
      "metadata": {
        "id": "tXLaheIosgSJ"
      },
      "source": [
        "# Data preparation"
      ]
    },
    {
      "cell_type": "code",
      "metadata": {
        "id": "InPgx-zOKyH9"
      },
      "source": [
        "from PIL import Image\r\n",
        "\r\n",
        "def select_image(filename):\r\n",
        "    _image = Image.open(filename)\r\n",
        "    _image = _image.convert('RGB')\r\n",
        "    _image = _image.resize((150,150))\r\n",
        "    return np.asarray(_image)"
      ],
      "execution_count": null,
      "outputs": []
    },
    {
      "cell_type": "code",
      "metadata": {
        "id": "FR3W2BBjKzaI"
      },
      "source": [
        "def load_class(directory, label_class, images, labels):\r\n",
        "    for filename in os.listdir(directory):\r\n",
        "        _path = directory + filename\r\n",
        "        images.append(select_image(_path))\r\n",
        "        labels.append(label_class)\r\n",
        "    return images, labels"
      ],
      "execution_count": null,
      "outputs": []
    },
    {
      "cell_type": "code",
      "metadata": {
        "id": "sHfdSDKGK1UC"
      },
      "source": [
        "def select_dataset(directory):\r\n",
        "    _images = list()\r\n",
        "    _labels = list()\r\n",
        "    for subdir in os.listdir(directory):\r\n",
        "        _path = directory + subdir + '/'\r\n",
        "        if not os.path.isdir(_path):\r\n",
        "            continue\r\n",
        "        _images, _labels = load_class(_path, subdir, _images, _labels)\r\n",
        "    return _images, _labels"
      ],
      "execution_count": null,
      "outputs": []
    },
    {
      "cell_type": "code",
      "metadata": {
        "colab": {
          "base_uri": "https://localhost:8080/"
        },
        "id": "bSXFd_klK3Iq",
        "outputId": "e709b7cd-1dbe-417c-b7b6-2a8834d695e0"
      },
      "source": [
        "_images, _labels = select_dataset('./data/')\r\n",
        "print(len(_images), len(_labels))"
      ],
      "execution_count": null,
      "outputs": [
        {
          "output_type": "stream",
          "text": [
            "5220 5220\n"
          ],
          "name": "stdout"
        }
      ]
    },
    {
      "cell_type": "code",
      "metadata": {
        "id": "gt2iyqkNK41_"
      },
      "source": [
        "from sklearn.preprocessing import LabelBinarizer\r\n",
        "\r\n",
        "_labelBinarizer = LabelBinarizer()"
      ],
      "execution_count": null,
      "outputs": []
    },
    {
      "cell_type": "code",
      "metadata": {
        "id": "d16mU-ksLCKg"
      },
      "source": [
        "from keras.utils import to_categorical\r\n",
        "\r\n",
        "def normalize(images, labels):\r\n",
        "    images = np.array(images) / 255.0\r\n",
        "    labels = np.array(labels)\r\n",
        "    labels = _labelBinarizer.fit_transform(labels)\r\n",
        "    labels = to_categorical(labels)\r\n",
        "    return images, labels\r\n",
        "\r\n",
        "_images, _labels = normalize(_images, _labels)"
      ],
      "execution_count": null,
      "outputs": []
    },
    {
      "cell_type": "code",
      "metadata": {
        "id": "pjm21HfgLD-U"
      },
      "source": [
        "from sklearn.model_selection import train_test_split\r\n",
        "\r\n",
        "_x_train, _x_test, _y_train, _y_test = train_test_split(_images, _labels, test_size=0.20, stratify=_labels, random_state=_random_state)"
      ],
      "execution_count": null,
      "outputs": []
    },
    {
      "cell_type": "code",
      "metadata": {
        "id": "JEYeDqrjLFle"
      },
      "source": [
        "from keras.preprocessing.image import ImageDataGenerator\r\n",
        "\r\n",
        "_train_data_augmentation = ImageDataGenerator(rotation_range=_rotation, zoom_range=_zoom, horizontal_flip=_flip)\r\n",
        "_train_data_augmentation.fit(_x_train)\r\n",
        "_data_augmentation = _train_data_augmentation.flow(_x_train, _y_train, batch_size=_batch_size)"
      ],
      "execution_count": null,
      "outputs": []
    },
    {
      "cell_type": "code",
      "metadata": {
        "id": "fhCM3hP3LG8v"
      },
      "source": [
        "from keras.callbacks import ModelCheckpoint, ReduceLROnPlateau\r\n",
        "\r\n",
        "def _get_callbacks(model_name, verbose=1):\r\n",
        "    _checkpoint = ModelCheckpoint(os.getcwd() + f'{model_name}.hdf5', monitor='val_acc', save_best_only=True, mode='max', verbose=verbose)\r\n",
        "    _plateau = ReduceLROnPlateau(monitor='val_acc', factor=0.1, min_delta=_alpha, patience=5, verbose=verbose)\r\n",
        "    return [_checkpoint, _plateau]"
      ],
      "execution_count": null,
      "outputs": []
    },
    {
      "cell_type": "markdown",
      "metadata": {
        "id": "gZAwN_jX4K3-"
      },
      "source": [
        "# LSTM [Horchreiter et al., 1997]"
      ]
    },
    {
      "cell_type": "code",
      "metadata": {
        "colab": {
          "base_uri": "https://localhost:8080/"
        },
        "id": "dvXCQBLx3Oc3",
        "outputId": "c54096af-7d15-4612-841e-ffd4bdd8503b"
      },
      "source": [
        "from keras.models import Sequential\r\n",
        "from keras.layers import Conv2D, MaxPool2D, GlobalAveragePooling2D, BatchNormalization, Dense, Dropout, Flatten, LSTM, RepeatVector, TimeDistributed, LSTM\r\n",
        "\r\n",
        "# https://ieeexplore.ieee.org/stamp/stamp.jsp?arnumber=8502031 - page 8\r\n",
        "\r\n",
        "_model = Sequential()\r\n",
        "\r\n",
        "# layer 1-5\r\n",
        "_model.add(Conv2D(filters = 64, kernel_size = (3,3),padding = 'Same' , activation ='relu', input_shape =_input_shape))\r\n",
        "_model.add(Conv2D(filters = 64, kernel_size = (3,3),padding = 'Same' , activation ='relu'))\r\n",
        "_model.add(BatchNormalization())\r\n",
        "_model.add(MaxPool2D(pool_size=(2,2),strides=(2,2)))\r\n",
        "_model.add(Dropout(0.25))\r\n",
        "\r\n",
        "# layer 6 - 10\r\n",
        "_model.add(Conv2D(filters = 128, kernel_size = (3,3),padding = 'Same' , activation ='relu'))\r\n",
        "_model.add(Conv2D(filters = 128, kernel_size = (3,3),padding = 'Same' , activation ='relu'))\r\n",
        "_model.add(BatchNormalization())\r\n",
        "_model.add(MaxPool2D(pool_size=(2,2), strides=(2,2)))\r\n",
        "_model.add(Dropout(0.25))\r\n",
        "\r\n",
        "# layer 11 - 15\r\n",
        "_model.add(Conv2D(filters = 256, kernel_size = (3,3),padding = 'Same' , activation ='relu'))\r\n",
        "_model.add(Conv2D(filters = 256, kernel_size = (3,3),padding = 'Same' , activation ='relu'))\r\n",
        "_model.add(BatchNormalization())\r\n",
        "_model.add(MaxPool2D(pool_size=(1,2), strides=(1,2)))\r\n",
        "_model.add(Dropout(0.25))\r\n",
        "\r\n",
        "# layer 16 - 18 \r\n",
        "_model.add(Dense(256 , activation ='relu'))\r\n",
        "_model.add(Dropout(0.25))\r\n",
        "\r\n",
        "# layer 19\r\n",
        "_model.add(TimeDistributed(Flatten()))\r\n",
        "_model.add(LSTM(32, return_sequences=False))\r\n",
        "\r\n",
        "# layer 20 - 22\r\n",
        "_model.add(Dense(2, activation = \"softmax\"))\r\n",
        "\r\n",
        "_model.summary()"
      ],
      "execution_count": null,
      "outputs": [
        {
          "output_type": "stream",
          "text": [
            "Model: \"sequential\"\n",
            "_________________________________________________________________\n",
            "Layer (type)                 Output Shape              Param #   \n",
            "=================================================================\n",
            "conv2d (Conv2D)              (None, 150, 150, 64)      1792      \n",
            "_________________________________________________________________\n",
            "conv2d_1 (Conv2D)            (None, 150, 150, 64)      36928     \n",
            "_________________________________________________________________\n",
            "batch_normalization (BatchNo (None, 150, 150, 64)      256       \n",
            "_________________________________________________________________\n",
            "max_pooling2d (MaxPooling2D) (None, 75, 75, 64)        0         \n",
            "_________________________________________________________________\n",
            "dropout (Dropout)            (None, 75, 75, 64)        0         \n",
            "_________________________________________________________________\n",
            "conv2d_2 (Conv2D)            (None, 75, 75, 128)       73856     \n",
            "_________________________________________________________________\n",
            "conv2d_3 (Conv2D)            (None, 75, 75, 128)       147584    \n",
            "_________________________________________________________________\n",
            "batch_normalization_1 (Batch (None, 75, 75, 128)       512       \n",
            "_________________________________________________________________\n",
            "max_pooling2d_1 (MaxPooling2 (None, 37, 37, 128)       0         \n",
            "_________________________________________________________________\n",
            "dropout_1 (Dropout)          (None, 37, 37, 128)       0         \n",
            "_________________________________________________________________\n",
            "conv2d_4 (Conv2D)            (None, 37, 37, 256)       295168    \n",
            "_________________________________________________________________\n",
            "conv2d_5 (Conv2D)            (None, 37, 37, 256)       590080    \n",
            "_________________________________________________________________\n",
            "batch_normalization_2 (Batch (None, 37, 37, 256)       1024      \n",
            "_________________________________________________________________\n",
            "max_pooling2d_2 (MaxPooling2 (None, 37, 18, 256)       0         \n",
            "_________________________________________________________________\n",
            "dropout_2 (Dropout)          (None, 37, 18, 256)       0         \n",
            "_________________________________________________________________\n",
            "dense (Dense)                (None, 37, 18, 256)       65792     \n",
            "_________________________________________________________________\n",
            "dropout_3 (Dropout)          (None, 37, 18, 256)       0         \n",
            "_________________________________________________________________\n",
            "time_distributed (TimeDistri (None, 37, 4608)          0         \n",
            "_________________________________________________________________\n",
            "lstm (LSTM)                  (None, 32)                594048    \n",
            "_________________________________________________________________\n",
            "dense_1 (Dense)              (None, 2)                 66        \n",
            "=================================================================\n",
            "Total params: 1,807,106\n",
            "Trainable params: 1,806,210\n",
            "Non-trainable params: 896\n",
            "_________________________________________________________________\n"
          ],
          "name": "stdout"
        }
      ]
    },
    {
      "cell_type": "code",
      "metadata": {
        "id": "CrlJ1jhk4O-H"
      },
      "source": [
        "_model.compile(loss='binary_crossentropy', optimizer='adam', metrics=['acc'])"
      ],
      "execution_count": null,
      "outputs": []
    },
    {
      "cell_type": "code",
      "metadata": {
        "colab": {
          "base_uri": "https://localhost:8080/"
        },
        "id": "ynXprFFT4TPp",
        "outputId": "ecb942a5-6885-45a2-c334-7f909eb2a77c"
      },
      "source": [
        "_callbacks = _get_callbacks('/vgg19-lstm-2')\r\n",
        "_history = _model.fit_generator(_data_augmentation,\r\n",
        "                                epochs = _epochs, \r\n",
        "                                validation_data = (_x_train, _y_train),\r\n",
        "                                verbose = 1, \r\n",
        "                                steps_per_epoch=_x_train.shape[0] // _batch_size, \r\n",
        "                                callbacks=_callbacks)"
      ],
      "execution_count": null,
      "outputs": [
        {
          "output_type": "stream",
          "text": [
            "/usr/local/lib/python3.7/dist-packages/tensorflow/python/keras/engine/training.py:1844: UserWarning: `Model.fit_generator` is deprecated and will be removed in a future version. Please use `Model.fit`, which supports generators.\n",
            "  warnings.warn('`Model.fit_generator` is deprecated and '\n"
          ],
          "name": "stderr"
        },
        {
          "output_type": "stream",
          "text": [
            "Epoch 1/10\n",
            "130/130 [==============================] - 2201s 17s/step - loss: 0.6564 - acc: 0.6214 - val_loss: 0.6165 - val_acc: 0.7134\n",
            "\n",
            "Epoch 00001: val_acc improved from -inf to 0.71336, saving model to /content/vgg19-lstm-2.hdf5\n",
            "Epoch 2/10\n",
            "130/130 [==============================] - 2220s 17s/step - loss: 0.6068 - acc: 0.6998 - val_loss: 0.6127 - val_acc: 0.6537\n",
            "\n",
            "Epoch 00002: val_acc did not improve from 0.71336\n",
            "Epoch 3/10\n",
            "130/130 [==============================] - 2238s 17s/step - loss: 0.5872 - acc: 0.7208 - val_loss: 0.5398 - val_acc: 0.7349\n",
            "\n",
            "Epoch 00003: val_acc improved from 0.71336 to 0.73491, saving model to /content/vgg19-lstm-2.hdf5\n",
            "Epoch 4/10\n",
            "130/130 [==============================] - 2240s 17s/step - loss: 0.5607 - acc: 0.7315 - val_loss: 0.4781 - val_acc: 0.8147\n",
            "\n",
            "Epoch 00004: val_acc improved from 0.73491 to 0.81466, saving model to /content/vgg19-lstm-2.hdf5\n",
            "Epoch 5/10\n",
            "130/130 [==============================] - 2241s 17s/step - loss: 0.4878 - acc: 0.7915 - val_loss: 0.9079 - val_acc: 0.5000\n",
            "\n",
            "Epoch 00005: val_acc did not improve from 0.81466\n",
            "Epoch 6/10\n",
            "130/130 [==============================] - 2251s 17s/step - loss: 0.4694 - acc: 0.8278 - val_loss: 0.4639 - val_acc: 0.7177\n",
            "\n",
            "Epoch 00006: val_acc did not improve from 0.81466\n",
            "Epoch 7/10\n",
            "130/130 [==============================] - 2275s 18s/step - loss: 0.3322 - acc: 0.8934 - val_loss: 0.8731 - val_acc: 0.5098\n",
            "\n",
            "Epoch 00007: val_acc did not improve from 0.81466\n",
            "Epoch 8/10\n",
            "130/130 [==============================] - 2285s 18s/step - loss: 0.3293 - acc: 0.8809 - val_loss: 0.7922 - val_acc: 0.5788\n",
            "\n",
            "Epoch 00008: val_acc did not improve from 0.81466\n",
            "Epoch 9/10\n",
            "130/130 [==============================] - 2290s 18s/step - loss: 0.2655 - acc: 0.9039 - val_loss: 0.8559 - val_acc: 0.3247\n",
            "\n",
            "Epoch 00009: val_acc did not improve from 0.81466\n",
            "\n",
            "Epoch 00009: ReduceLROnPlateau reducing learning rate to 0.00010000000474974513.\n",
            "Epoch 10/10\n",
            "130/130 [==============================] - 2286s 18s/step - loss: 0.2263 - acc: 0.9256 - val_loss: 0.1332 - val_acc: 0.9734\n",
            "\n",
            "Epoch 00010: val_acc improved from 0.81466 to 0.97342, saving model to /content/vgg19-lstm-2.hdf5\n"
          ],
          "name": "stdout"
        }
      ]
    },
    {
      "cell_type": "code",
      "metadata": {
        "colab": {
          "base_uri": "https://localhost:8080/"
        },
        "id": "HSQOjRJW4XYJ",
        "outputId": "e9a79df0-8ecb-48a0-fbe1-7db5b20793d3"
      },
      "source": [
        "_model.evaluate(_x_train, _y_train)"
      ],
      "execution_count": null,
      "outputs": [
        {
          "output_type": "stream",
          "text": [
            "131/131 [==============================] - 486s 4s/step - loss: 0.1332 - acc: 0.9734\n"
          ],
          "name": "stdout"
        },
        {
          "output_type": "execute_result",
          "data": {
            "text/plain": [
              "[0.13318341970443726, 0.9734195470809937]"
            ]
          },
          "metadata": {
            "tags": []
          },
          "execution_count": 16
        }
      ]
    },
    {
      "cell_type": "markdown",
      "metadata": {
        "id": "L3IgUt8tQZaC"
      },
      "source": [
        "# LSTM-LSTM"
      ]
    },
    {
      "cell_type": "code",
      "metadata": {
        "colab": {
          "base_uri": "https://localhost:8080/"
        },
        "id": "N45zqf_6QdVK",
        "outputId": "92e9aebf-27e9-4e9a-f6c8-ef534e8a5542"
      },
      "source": [
        "from keras.models import Sequential\r\n",
        "from keras.layers import Conv2D, MaxPool2D, GlobalAveragePooling2D, BatchNormalization, Dense, Dropout, Flatten, LSTM, RepeatVector, TimeDistributed\r\n",
        "\r\n",
        "# https://ieeexplore.ieee.org/stamp/stamp.jsp?arnumber=8502031 - page 8\r\n",
        "\r\n",
        "_model = Sequential()\r\n",
        "\r\n",
        "# layer 1-5\r\n",
        "_model.add(Conv2D(filters = 64, kernel_size = (3,3),padding = 'Same' , activation ='relu', input_shape =_input_shape))\r\n",
        "_model.add(Conv2D(filters = 64, kernel_size = (3,3),padding = 'Same' , activation ='relu'))\r\n",
        "_model.add(BatchNormalization())\r\n",
        "_model.add(MaxPool2D(pool_size=(2,2),strides=(2,2)))\r\n",
        "_model.add(Dropout(0.25))\r\n",
        "\r\n",
        "# layer 6 - 10\r\n",
        "_model.add(Conv2D(filters = 128, kernel_size = (3,3),padding = 'Same' , activation ='relu'))\r\n",
        "_model.add(Conv2D(filters = 128, kernel_size = (3,3),padding = 'Same' , activation ='relu'))\r\n",
        "_model.add(BatchNormalization())\r\n",
        "_model.add(MaxPool2D(pool_size=(2,2), strides=(2,2)))\r\n",
        "_model.add(Dropout(0.25))\r\n",
        "\r\n",
        "# layer 11 - 15\r\n",
        "_model.add(Conv2D(filters = 256, kernel_size = (3,3),padding = 'Same' , activation ='relu'))\r\n",
        "_model.add(Conv2D(filters = 256, kernel_size = (3,3),padding = 'Same' , activation ='relu'))\r\n",
        "_model.add(BatchNormalization())\r\n",
        "_model.add(MaxPool2D(pool_size=(1,2), strides=(1,2)))\r\n",
        "_model.add(Dropout(0.25))\r\n",
        "\r\n",
        "# layer 16 - 18 \r\n",
        "_model.add(Dense(256 , activation ='relu'))\r\n",
        "_model.add(Dropout(0.25))\r\n",
        "\r\n",
        "# layer 19\r\n",
        "_model.add(TimeDistributed(Flatten()))\r\n",
        "_model.add(LSTM(64, return_sequences=True))\r\n",
        "_model.add(LSTM(32, return_sequences=False))\r\n",
        "\r\n",
        "# layer 20 - 22\r\n",
        "_model.add(Dense(2, activation = \"softmax\"))\r\n",
        "\r\n",
        "_model.summary()"
      ],
      "execution_count": null,
      "outputs": [
        {
          "output_type": "stream",
          "text": [
            "Model: \"sequential\"\n",
            "_________________________________________________________________\n",
            "Layer (type)                 Output Shape              Param #   \n",
            "=================================================================\n",
            "conv2d (Conv2D)              (None, 150, 150, 64)      1792      \n",
            "_________________________________________________________________\n",
            "conv2d_1 (Conv2D)            (None, 150, 150, 64)      36928     \n",
            "_________________________________________________________________\n",
            "batch_normalization (BatchNo (None, 150, 150, 64)      256       \n",
            "_________________________________________________________________\n",
            "max_pooling2d (MaxPooling2D) (None, 75, 75, 64)        0         \n",
            "_________________________________________________________________\n",
            "dropout (Dropout)            (None, 75, 75, 64)        0         \n",
            "_________________________________________________________________\n",
            "conv2d_2 (Conv2D)            (None, 75, 75, 128)       73856     \n",
            "_________________________________________________________________\n",
            "conv2d_3 (Conv2D)            (None, 75, 75, 128)       147584    \n",
            "_________________________________________________________________\n",
            "batch_normalization_1 (Batch (None, 75, 75, 128)       512       \n",
            "_________________________________________________________________\n",
            "max_pooling2d_1 (MaxPooling2 (None, 37, 37, 128)       0         \n",
            "_________________________________________________________________\n",
            "dropout_1 (Dropout)          (None, 37, 37, 128)       0         \n",
            "_________________________________________________________________\n",
            "conv2d_4 (Conv2D)            (None, 37, 37, 256)       295168    \n",
            "_________________________________________________________________\n",
            "conv2d_5 (Conv2D)            (None, 37, 37, 256)       590080    \n",
            "_________________________________________________________________\n",
            "batch_normalization_2 (Batch (None, 37, 37, 256)       1024      \n",
            "_________________________________________________________________\n",
            "max_pooling2d_2 (MaxPooling2 (None, 37, 18, 256)       0         \n",
            "_________________________________________________________________\n",
            "dropout_2 (Dropout)          (None, 37, 18, 256)       0         \n",
            "_________________________________________________________________\n",
            "dense (Dense)                (None, 37, 18, 256)       65792     \n",
            "_________________________________________________________________\n",
            "dropout_3 (Dropout)          (None, 37, 18, 256)       0         \n",
            "_________________________________________________________________\n",
            "time_distributed (TimeDistri (None, 37, 4608)          0         \n",
            "_________________________________________________________________\n",
            "lstm (LSTM)                  (None, 37, 64)            1196288   \n",
            "_________________________________________________________________\n",
            "lstm_1 (LSTM)                (None, 32)                12416     \n",
            "_________________________________________________________________\n",
            "dense_1 (Dense)              (None, 2)                 66        \n",
            "=================================================================\n",
            "Total params: 2,421,762\n",
            "Trainable params: 2,420,866\n",
            "Non-trainable params: 896\n",
            "_________________________________________________________________\n"
          ],
          "name": "stdout"
        }
      ]
    },
    {
      "cell_type": "code",
      "metadata": {
        "id": "Y5FX9rzGRAeA"
      },
      "source": [
        "_model.compile(loss='binary_crossentropy', optimizer='adam', metrics=['acc'])"
      ],
      "execution_count": null,
      "outputs": []
    },
    {
      "cell_type": "code",
      "metadata": {
        "colab": {
          "base_uri": "https://localhost:8080/"
        },
        "id": "Kzrc72n0REly",
        "outputId": "a0f1f1f2-7685-43ca-c885-90d15ad7bc7c"
      },
      "source": [
        "_callbacks = _get_callbacks('/vgg19-lstm-3')\r\n",
        "_history = _model.fit_generator(_data_augmentation,\r\n",
        "                                epochs = _epochs, \r\n",
        "                                validation_data = (_x_train, _y_train),\r\n",
        "                                verbose = 1, \r\n",
        "                                steps_per_epoch=_x_train.shape[0] // _batch_size, \r\n",
        "                                callbacks=_callbacks)"
      ],
      "execution_count": null,
      "outputs": [
        {
          "output_type": "stream",
          "text": [
            "/usr/local/lib/python3.7/dist-packages/tensorflow/python/keras/engine/training.py:1844: UserWarning: `Model.fit_generator` is deprecated and will be removed in a future version. Please use `Model.fit`, which supports generators.\n",
            "  warnings.warn('`Model.fit_generator` is deprecated and '\n"
          ],
          "name": "stderr"
        },
        {
          "output_type": "stream",
          "text": [
            "Epoch 1/10\n",
            "130/130 [==============================] - 1604s 12s/step - loss: 0.6019 - acc: 0.6862 - val_loss: 0.6229 - val_acc: 0.6667\n",
            "\n",
            "Epoch 00001: val_acc improved from -inf to 0.66667, saving model to /content/vgg19-lstm-3.hdf5\n",
            "Epoch 2/10\n",
            "130/130 [==============================] - 1620s 12s/step - loss: 0.4065 - acc: 0.8253 - val_loss: 1.3873 - val_acc: 0.5000\n",
            "\n",
            "Epoch 00002: val_acc did not improve from 0.66667\n",
            "Epoch 3/10\n",
            "130/130 [==============================] - 1621s 12s/step - loss: 0.3112 - acc: 0.8745 - val_loss: 0.2888 - val_acc: 0.9028\n",
            "\n",
            "Epoch 00003: val_acc improved from 0.66667 to 0.90278, saving model to /content/vgg19-lstm-3.hdf5\n",
            "Epoch 4/10\n",
            "130/130 [==============================] - 1626s 13s/step - loss: 0.2198 - acc: 0.9170 - val_loss: 0.1196 - val_acc: 0.9547\n",
            "\n",
            "Epoch 00004: val_acc improved from 0.90278 to 0.95474, saving model to /content/vgg19-lstm-3.hdf5\n",
            "Epoch 5/10\n",
            "130/130 [==============================] - 1627s 13s/step - loss: 0.1369 - acc: 0.9503 - val_loss: 0.0298 - val_acc: 0.9919\n",
            "\n",
            "Epoch 00005: val_acc improved from 0.95474 to 0.99186, saving model to /content/vgg19-lstm-3.hdf5\n",
            "Epoch 6/10\n",
            "130/130 [==============================] - 1621s 12s/step - loss: 0.1371 - acc: 0.9540 - val_loss: 0.0155 - val_acc: 0.9957\n",
            "\n",
            "Epoch 00006: val_acc improved from 0.99186 to 0.99569, saving model to /content/vgg19-lstm-3.hdf5\n",
            "Epoch 7/10\n",
            "130/130 [==============================] - 1623s 12s/step - loss: 0.0949 - acc: 0.9666 - val_loss: 0.0198 - val_acc: 0.9950\n",
            "\n",
            "Epoch 00007: val_acc did not improve from 0.99569\n",
            "Epoch 8/10\n",
            "130/130 [==============================] - 1623s 13s/step - loss: 0.0888 - acc: 0.9710 - val_loss: 0.6338 - val_acc: 0.6540\n",
            "\n",
            "Epoch 00008: val_acc did not improve from 0.99569\n",
            "Epoch 9/10\n",
            "130/130 [==============================] - 1626s 13s/step - loss: 0.0733 - acc: 0.9716 - val_loss: 0.0665 - val_acc: 0.9758\n",
            "\n",
            "Epoch 00009: val_acc did not improve from 0.99569\n",
            "Epoch 10/10\n",
            "130/130 [==============================] - 1627s 13s/step - loss: 0.0738 - acc: 0.9720 - val_loss: 0.0462 - val_acc: 0.9959\n",
            "\n",
            "Epoch 00010: val_acc improved from 0.99569 to 0.99593, saving model to /content/vgg19-lstm-3.hdf5\n"
          ],
          "name": "stdout"
        }
      ]
    },
    {
      "cell_type": "code",
      "metadata": {
        "colab": {
          "base_uri": "https://localhost:8080/"
        },
        "id": "CF1tDT13RJtv",
        "outputId": "7afaa83f-6cd9-428c-bc07-300354a08d75"
      },
      "source": [
        "_model.evaluate(_x_train, _y_train)"
      ],
      "execution_count": null,
      "outputs": [
        {
          "output_type": "stream",
          "text": [
            "131/131 [==============================] - 290s 2s/step - loss: 0.0462 - acc: 0.9959\n"
          ],
          "name": "stdout"
        },
        {
          "output_type": "execute_result",
          "data": {
            "text/plain": [
              "[0.046178679913282394, 0.9959291219711304]"
            ]
          },
          "metadata": {
            "tags": []
          },
          "execution_count": 17
        }
      ]
    },
    {
      "cell_type": "markdown",
      "metadata": {
        "id": "A-A6lfgvG7E_"
      },
      "source": [
        "# GRU [Cho et al., 2014]\r\n",
        "Combina o input e forget gate no update gate\r\n",
        "\r\n",
        "Mais usando em casos binarios (azul ou amarelo)"
      ]
    },
    {
      "cell_type": "code",
      "metadata": {
        "colab": {
          "base_uri": "https://localhost:8080/"
        },
        "id": "bLnMykZTDMwu",
        "outputId": "afd67d15-93a9-4625-d516-2af46bcd057d"
      },
      "source": [
        "from keras.models import Sequential\r\n",
        "from keras.layers import Conv2D, MaxPool2D, GlobalAveragePooling2D, BatchNormalization, Dense, Dropout, Flatten, GRU, RepeatVector, TimeDistributed\r\n",
        "\r\n",
        "# https://ieeexplore.ieee.org/stamp/stamp.jsp?arnumber=8502031 - page 8\r\n",
        "\r\n",
        "_model = Sequential()\r\n",
        "\r\n",
        "# layer 1-5\r\n",
        "_model.add(Conv2D(filters = 64, kernel_size = (3,3),padding = 'Same' , activation ='relu', input_shape =_input_shape))\r\n",
        "_model.add(Conv2D(filters = 64, kernel_size = (3,3),padding = 'Same' , activation ='relu'))\r\n",
        "_model.add(BatchNormalization())\r\n",
        "_model.add(MaxPool2D(pool_size=(2,2),strides=(2,2)))\r\n",
        "_model.add(Dropout(0.25))\r\n",
        "\r\n",
        "# layer 6 - 10\r\n",
        "_model.add(Conv2D(filters = 128, kernel_size = (3,3),padding = 'Same' , activation ='relu'))\r\n",
        "_model.add(Conv2D(filters = 128, kernel_size = (3,3),padding = 'Same' , activation ='relu'))\r\n",
        "_model.add(BatchNormalization())\r\n",
        "_model.add(MaxPool2D(pool_size=(2,2), strides=(2,2)))\r\n",
        "_model.add(Dropout(0.25))\r\n",
        "\r\n",
        "# layer 11 - 15\r\n",
        "_model.add(Conv2D(filters = 256, kernel_size = (3,3),padding = 'Same' , activation ='relu'))\r\n",
        "_model.add(Conv2D(filters = 256, kernel_size = (3,3),padding = 'Same' , activation ='relu'))\r\n",
        "_model.add(BatchNormalization())\r\n",
        "_model.add(MaxPool2D(pool_size=(1,2), strides=(1,2)))\r\n",
        "_model.add(Dropout(0.25))\r\n",
        "\r\n",
        "# layer 16 - 18 \r\n",
        "_model.add(Dense(256 , activation ='relu'))\r\n",
        "_model.add(Dropout(0.25))\r\n",
        "\r\n",
        "# layer 19\r\n",
        "_model.add(TimeDistributed(Flatten()))\r\n",
        "_model.add(GRU(32, return_sequences=False))\r\n",
        "\r\n",
        "# layer 20 - 22\r\n",
        "_model.add(Dense(2, activation = \"softmax\"))\r\n",
        "\r\n",
        "_model.summary()"
      ],
      "execution_count": null,
      "outputs": [
        {
          "output_type": "stream",
          "text": [
            "Model: \"sequential_1\"\n",
            "_________________________________________________________________\n",
            "Layer (type)                 Output Shape              Param #   \n",
            "=================================================================\n",
            "conv2d_6 (Conv2D)            (None, 150, 150, 64)      1792      \n",
            "_________________________________________________________________\n",
            "conv2d_7 (Conv2D)            (None, 150, 150, 64)      36928     \n",
            "_________________________________________________________________\n",
            "batch_normalization_3 (Batch (None, 150, 150, 64)      256       \n",
            "_________________________________________________________________\n",
            "max_pooling2d_3 (MaxPooling2 (None, 75, 75, 64)        0         \n",
            "_________________________________________________________________\n",
            "dropout_4 (Dropout)          (None, 75, 75, 64)        0         \n",
            "_________________________________________________________________\n",
            "conv2d_8 (Conv2D)            (None, 75, 75, 128)       73856     \n",
            "_________________________________________________________________\n",
            "conv2d_9 (Conv2D)            (None, 75, 75, 128)       147584    \n",
            "_________________________________________________________________\n",
            "batch_normalization_4 (Batch (None, 75, 75, 128)       512       \n",
            "_________________________________________________________________\n",
            "max_pooling2d_4 (MaxPooling2 (None, 37, 37, 128)       0         \n",
            "_________________________________________________________________\n",
            "dropout_5 (Dropout)          (None, 37, 37, 128)       0         \n",
            "_________________________________________________________________\n",
            "conv2d_10 (Conv2D)           (None, 37, 37, 256)       295168    \n",
            "_________________________________________________________________\n",
            "conv2d_11 (Conv2D)           (None, 37, 37, 256)       590080    \n",
            "_________________________________________________________________\n",
            "batch_normalization_5 (Batch (None, 37, 37, 256)       1024      \n",
            "_________________________________________________________________\n",
            "max_pooling2d_5 (MaxPooling2 (None, 37, 18, 256)       0         \n",
            "_________________________________________________________________\n",
            "dropout_6 (Dropout)          (None, 37, 18, 256)       0         \n",
            "_________________________________________________________________\n",
            "dense_2 (Dense)              (None, 37, 18, 256)       65792     \n",
            "_________________________________________________________________\n",
            "dropout_7 (Dropout)          (None, 37, 18, 256)       0         \n",
            "_________________________________________________________________\n",
            "time_distributed_1 (TimeDist (None, 37, 4608)          0         \n",
            "_________________________________________________________________\n",
            "gru (GRU)                    (None, 32)                445632    \n",
            "_________________________________________________________________\n",
            "dense_3 (Dense)              (None, 2)                 66        \n",
            "=================================================================\n",
            "Total params: 1,658,690\n",
            "Trainable params: 1,657,794\n",
            "Non-trainable params: 896\n",
            "_________________________________________________________________\n"
          ],
          "name": "stdout"
        }
      ]
    },
    {
      "cell_type": "code",
      "metadata": {
        "id": "QxNTmgbtDUxO"
      },
      "source": [
        "_model.compile(loss='binary_crossentropy', optimizer='adam', metrics=['acc'])"
      ],
      "execution_count": null,
      "outputs": []
    },
    {
      "cell_type": "code",
      "metadata": {
        "colab": {
          "base_uri": "https://localhost:8080/"
        },
        "id": "DmvPLVNtDXil",
        "outputId": "f33ffd01-f313-4445-f973-6e128fadfc18"
      },
      "source": [
        "_callbacks = _get_callbacks('/vgg19-lstm-4')\r\n",
        "_history = _model.fit_generator(_data_augmentation,\r\n",
        "                                epochs = _epochs, \r\n",
        "                                validation_data = (_x_train, _y_train),\r\n",
        "                                verbose = 1, \r\n",
        "                                steps_per_epoch=_x_train.shape[0] // _batch_size, \r\n",
        "                                callbacks=_callbacks)"
      ],
      "execution_count": null,
      "outputs": [
        {
          "output_type": "stream",
          "text": [
            "/usr/local/lib/python3.7/dist-packages/tensorflow/python/keras/engine/training.py:1844: UserWarning: `Model.fit_generator` is deprecated and will be removed in a future version. Please use `Model.fit`, which supports generators.\n",
            "  warnings.warn('`Model.fit_generator` is deprecated and '\n"
          ],
          "name": "stderr"
        },
        {
          "output_type": "stream",
          "text": [
            "Epoch 1/10\n",
            "130/130 [==============================] - 1613s 12s/step - loss: 0.6460 - acc: 0.6557 - val_loss: 0.7511 - val_acc: 0.5000\n",
            "\n",
            "Epoch 00001: val_acc improved from -inf to 0.50000, saving model to /content/vgg19-lstm-4.hdf5\n",
            "Epoch 2/10\n",
            "130/130 [==============================] - 1616s 12s/step - loss: 0.5550 - acc: 0.7324 - val_loss: 1.2683 - val_acc: 0.5000\n",
            "\n",
            "Epoch 00002: val_acc did not improve from 0.50000\n",
            "Epoch 3/10\n",
            "130/130 [==============================] - 1612s 12s/step - loss: 0.3044 - acc: 0.8898 - val_loss: 1.2991 - val_acc: 0.5000\n",
            "\n",
            "Epoch 00003: val_acc did not improve from 0.50000\n",
            "Epoch 4/10\n",
            "130/130 [==============================] - 1610s 12s/step - loss: 0.2069 - acc: 0.9270 - val_loss: 1.6001 - val_acc: 0.5000\n",
            "\n",
            "Epoch 00004: val_acc did not improve from 0.50000\n",
            "Epoch 5/10\n",
            "130/130 [==============================] - 1609s 12s/step - loss: 0.1555 - acc: 0.9401 - val_loss: 0.8448 - val_acc: 0.7584\n",
            "\n",
            "Epoch 00005: val_acc improved from 0.50000 to 0.75838, saving model to /content/vgg19-lstm-4.hdf5\n",
            "Epoch 6/10\n",
            "130/130 [==============================] - 1611s 12s/step - loss: 0.1228 - acc: 0.9590 - val_loss: 0.1113 - val_acc: 0.9509\n",
            "\n",
            "Epoch 00006: val_acc improved from 0.75838 to 0.95091, saving model to /content/vgg19-lstm-4.hdf5\n",
            "Epoch 7/10\n",
            "130/130 [==============================] - 1616s 12s/step - loss: 0.1077 - acc: 0.9592 - val_loss: 0.4700 - val_acc: 0.8182\n",
            "\n",
            "Epoch 00007: val_acc did not improve from 0.95091\n",
            "Epoch 8/10\n",
            "130/130 [==============================] - 1612s 12s/step - loss: 0.0801 - acc: 0.9752 - val_loss: 0.0485 - val_acc: 0.9794\n",
            "\n",
            "Epoch 00008: val_acc improved from 0.95091 to 0.97941, saving model to /content/vgg19-lstm-4.hdf5\n",
            "Epoch 9/10\n",
            "130/130 [==============================] - 1613s 12s/step - loss: 0.0777 - acc: 0.9734 - val_loss: 0.0345 - val_acc: 0.9955\n",
            "\n",
            "Epoch 00009: val_acc improved from 0.97941 to 0.99545, saving model to /content/vgg19-lstm-4.hdf5\n",
            "Epoch 10/10\n",
            "130/130 [==============================] - 1610s 12s/step - loss: 0.0798 - acc: 0.9717 - val_loss: 0.0177 - val_acc: 0.9952\n",
            "\n",
            "Epoch 00010: val_acc did not improve from 0.99545\n"
          ],
          "name": "stdout"
        }
      ]
    },
    {
      "cell_type": "code",
      "metadata": {
        "colab": {
          "base_uri": "https://localhost:8080/"
        },
        "id": "WVzvTb6rDawJ",
        "outputId": "85ff2091-7e9c-4429-e1c7-bfd3fc77b3d2"
      },
      "source": [
        "_model.evaluate(_x_train, _y_train)"
      ],
      "execution_count": null,
      "outputs": [
        {
          "output_type": "stream",
          "text": [
            "131/131 [==============================] - 297s 2s/step - loss: 0.0177 - acc: 0.9952\n"
          ],
          "name": "stdout"
        },
        {
          "output_type": "execute_result",
          "data": {
            "text/plain": [
              "[0.017689209431409836, 0.9952107071876526]"
            ]
          },
          "metadata": {
            "tags": []
          },
          "execution_count": 21
        }
      ]
    },
    {
      "cell_type": "markdown",
      "metadata": {
        "id": "VRjcimwl5ieO"
      },
      "source": [
        "# GRU-GRU"
      ]
    },
    {
      "cell_type": "code",
      "metadata": {
        "id": "9hyxpDvnyQhV"
      },
      "source": [
        "from keras.models import Sequential\r\n",
        "from keras.layers import Conv2D, MaxPool2D, GlobalAveragePooling2D, BatchNormalization, Dense, Dropout, Flatten, GRU, RepeatVector, TimeDistributed\r\n",
        "\r\n",
        "# https://ieeexplore.ieee.org/stamp/stamp.jsp?arnumber=8502031 - page 8\r\n",
        "\r\n",
        "_model = Sequential()\r\n",
        "\r\n",
        "# layer 1-5\r\n",
        "_model.add(Conv2D(filters = 64, kernel_size = (3,3),padding = 'Same' , activation ='relu', input_shape =_input_shape))\r\n",
        "_model.add(Conv2D(filters = 64, kernel_size = (3,3),padding = 'Same' , activation ='relu'))\r\n",
        "_model.add(BatchNormalization())\r\n",
        "_model.add(MaxPool2D(pool_size=(2,2),strides=(2,2)))\r\n",
        "_model.add(Dropout(0.25))\r\n",
        "\r\n",
        "# layer 6 - 10\r\n",
        "_model.add(Conv2D(filters = 128, kernel_size = (3,3),padding = 'Same' , activation ='relu'))\r\n",
        "_model.add(Conv2D(filters = 128, kernel_size = (3,3),padding = 'Same' , activation ='relu'))\r\n",
        "_model.add(BatchNormalization())\r\n",
        "_model.add(MaxPool2D(pool_size=(2,2), strides=(2,2)))\r\n",
        "_model.add(Dropout(0.25))\r\n",
        "\r\n",
        "# layer 11 - 15\r\n",
        "_model.add(Conv2D(filters = 256, kernel_size = (3,3),padding = 'Same' , activation ='relu'))\r\n",
        "_model.add(Conv2D(filters = 256, kernel_size = (3,3),padding = 'Same' , activation ='relu'))\r\n",
        "_model.add(BatchNormalization())\r\n",
        "_model.add(MaxPool2D(pool_size=(1,2), strides=(1,2)))\r\n",
        "_model.add(Dropout(0.25))\r\n",
        "\r\n",
        "# layer 16 - 18 \r\n",
        "_model.add(Dense(256 , activation ='relu'))\r\n",
        "_model.add(Dropout(0.25))\r\n",
        "\r\n",
        "# layer 19\r\n",
        "_model.add(TimeDistributed(Flatten()))\r\n",
        "_model.add(GRU(64, return_sequences=True))\r\n",
        "_model.add(GRU(32, return_sequences=False))\r\n",
        "\r\n",
        "# layer 20 - 22\r\n",
        "_model.add(Dense(2, activation = \"softmax\"))\r\n",
        "\r\n",
        "_model.summary()"
      ],
      "execution_count": null,
      "outputs": []
    },
    {
      "cell_type": "code",
      "metadata": {
        "id": "lpFz9U4jyXf4"
      },
      "source": [
        "_model.compile(loss='binary_crossentropy', optimizer='adam', metrics=['acc'])"
      ],
      "execution_count": null,
      "outputs": []
    },
    {
      "cell_type": "code",
      "metadata": {
        "colab": {
          "base_uri": "https://localhost:8080/"
        },
        "id": "XpCcFFHkyZfP",
        "outputId": "d49bfc67-75cc-4d98-bc98-a451d9a3289a"
      },
      "source": [
        "_callbacks = _get_callbacks('/vgg19-lstm-5')\r\n",
        "_history = _model.fit_generator(_data_augmentation,\r\n",
        "                                epochs = _epochs, \r\n",
        "                                validation_data = (_x_train, _y_train),\r\n",
        "                                verbose = 1, \r\n",
        "                                steps_per_epoch=_x_train.shape[0] // _batch_size, \r\n",
        "                                callbacks=_callbacks)"
      ],
      "execution_count": null,
      "outputs": [
        {
          "output_type": "stream",
          "text": [
            "/usr/local/lib/python3.7/dist-packages/tensorflow/python/keras/engine/training.py:1844: UserWarning: `Model.fit_generator` is deprecated and will be removed in a future version. Please use `Model.fit`, which supports generators.\n",
            "  warnings.warn('`Model.fit_generator` is deprecated and '\n"
          ],
          "name": "stderr"
        },
        {
          "output_type": "stream",
          "text": [
            "Epoch 1/10\n",
            "130/130 [==============================] - 2405s 18s/step - loss: 0.6350 - acc: 0.6643 - val_loss: 1.1058 - val_acc: 0.5000\n",
            "\n",
            "Epoch 00001: val_acc improved from -inf to 0.50000, saving model to /content/vgg19-lstm-5.hdf5\n",
            "Epoch 2/10\n",
            "130/130 [==============================] - 2429s 19s/step - loss: 0.2857 - acc: 0.8903 - val_loss: 2.1045 - val_acc: 0.5000\n",
            "\n",
            "Epoch 00002: val_acc did not improve from 0.50000\n",
            "Epoch 3/10\n",
            "130/130 [==============================] - 2413s 19s/step - loss: 0.1340 - acc: 0.9537 - val_loss: 2.4706 - val_acc: 0.5000\n",
            "\n",
            "Epoch 00003: val_acc did not improve from 0.50000\n",
            "Epoch 4/10\n",
            "130/130 [==============================] - 2413s 19s/step - loss: 0.1075 - acc: 0.9599 - val_loss: 0.1435 - val_acc: 0.9514\n",
            "\n",
            "Epoch 00004: val_acc improved from 0.50000 to 0.95139, saving model to /content/vgg19-lstm-5.hdf5\n",
            "Epoch 5/10\n",
            "130/130 [==============================] - 2408s 19s/step - loss: 0.0686 - acc: 0.9776 - val_loss: 2.4219 - val_acc: 0.5084\n",
            "\n",
            "Epoch 00005: val_acc did not improve from 0.95139\n",
            "Epoch 6/10\n",
            "130/130 [==============================] - 2409s 19s/step - loss: 0.0684 - acc: 0.9813 - val_loss: 3.0491 - val_acc: 0.5000\n",
            "\n",
            "Epoch 00006: val_acc did not improve from 0.95139\n",
            "Epoch 7/10\n",
            "130/130 [==============================] - 2404s 19s/step - loss: 0.0589 - acc: 0.9791 - val_loss: 0.0202 - val_acc: 0.9964\n",
            "\n",
            "Epoch 00007: val_acc improved from 0.95139 to 0.99641, saving model to /content/vgg19-lstm-5.hdf5\n",
            "Epoch 8/10\n",
            "130/130 [==============================] - 2398s 18s/step - loss: 0.0544 - acc: 0.9797 - val_loss: 0.0320 - val_acc: 0.9938\n",
            "\n",
            "Epoch 00008: val_acc did not improve from 0.99641\n",
            "Epoch 9/10\n",
            "130/130 [==============================] - 2395s 18s/step - loss: 0.0519 - acc: 0.9813 - val_loss: 2.7651 - val_acc: 0.5024\n",
            "\n",
            "Epoch 00009: val_acc did not improve from 0.99641\n",
            "Epoch 10/10\n",
            "130/130 [==============================] - 2392s 18s/step - loss: 0.0473 - acc: 0.9831 - val_loss: 0.0069 - val_acc: 0.9993\n",
            "\n",
            "Epoch 00010: val_acc improved from 0.99641 to 0.99928, saving model to /content/vgg19-lstm-5.hdf5\n"
          ],
          "name": "stdout"
        }
      ]
    },
    {
      "cell_type": "code",
      "metadata": {
        "colab": {
          "base_uri": "https://localhost:8080/"
        },
        "id": "AkmK9iOAyb_Y",
        "outputId": "bd86438b-c2d1-424f-8318-8882550d12ca"
      },
      "source": [
        "_model.evaluate(_x_train, _y_train)"
      ],
      "execution_count": null,
      "outputs": [
        {
          "output_type": "stream",
          "text": [
            "131/131 [==============================] - 493s 4s/step - loss: 0.0074 - acc: 0.9990\n"
          ],
          "name": "stdout"
        },
        {
          "output_type": "execute_result",
          "data": {
            "text/plain": [
              "[0.007397003937512636, 0.9990421533584595]"
            ]
          },
          "metadata": {
            "tags": []
          },
          "execution_count": 14
        }
      ]
    },
    {
      "cell_type": "markdown",
      "metadata": {
        "id": "ge-bE4S1G_VB"
      },
      "source": [
        "# BiLSTM"
      ]
    },
    {
      "cell_type": "code",
      "metadata": {
        "colab": {
          "base_uri": "https://localhost:8080/"
        },
        "id": "Z1R5trewkDAF",
        "outputId": "6f057f86-8334-4492-a8cf-2708e36c9a3b"
      },
      "source": [
        "from keras.models import Sequential\r\n",
        "from keras.layers import Conv2D, MaxPool2D, GlobalAveragePooling2D, BatchNormalization, Dense, Dropout, Flatten, LSTM, RepeatVector, TimeDistributed, Bidirectional, LSTM\r\n",
        "\r\n",
        "# https://ieeexplore.ieee.org/stamp/stamp.jsp?arnumber=8502031 - page 8\r\n",
        "\r\n",
        "_model = Sequential()\r\n",
        "\r\n",
        "# layer 1-5\r\n",
        "_model.add(Conv2D(filters = 64, kernel_size = (3,3),padding = 'Same' , activation ='relu', input_shape =_input_shape))\r\n",
        "_model.add(Conv2D(filters = 64, kernel_size = (3,3),padding = 'Same' , activation ='relu'))\r\n",
        "_model.add(BatchNormalization())\r\n",
        "_model.add(MaxPool2D(pool_size=(2,2),strides=(2,2)))\r\n",
        "_model.add(Dropout(0.25))\r\n",
        "\r\n",
        "# layer 6 - 10\r\n",
        "_model.add(Conv2D(filters = 128, kernel_size = (3,3),padding = 'Same' , activation ='relu'))\r\n",
        "_model.add(Conv2D(filters = 128, kernel_size = (3,3),padding = 'Same' , activation ='relu'))\r\n",
        "_model.add(BatchNormalization())\r\n",
        "_model.add(MaxPool2D(pool_size=(2,2), strides=(2,2)))\r\n",
        "_model.add(Dropout(0.25))\r\n",
        "\r\n",
        "# layer 11 - 15\r\n",
        "_model.add(Conv2D(filters = 256, kernel_size = (3,3),padding = 'Same' , activation ='relu'))\r\n",
        "_model.add(Conv2D(filters = 256, kernel_size = (3,3),padding = 'Same' , activation ='relu'))\r\n",
        "_model.add(BatchNormalization())\r\n",
        "_model.add(MaxPool2D(pool_size=(1,2), strides=(1,2)))\r\n",
        "_model.add(Dropout(0.25))\r\n",
        "\r\n",
        "# layer 16 - 18 \r\n",
        "_model.add(Dense(256 , activation ='relu'))\r\n",
        "_model.add(Dropout(0.25))\r\n",
        "\r\n",
        "# layer 19\r\n",
        "_model.add(TimeDistributed(Flatten()))\r\n",
        "_model.add(Bidirectional(LSTM(32, return_sequences=False)))\r\n",
        "\r\n",
        "# layer 20 - 22\r\n",
        "_model.add(Dense(2, activation = \"softmax\"))\r\n",
        "\r\n",
        "_model.summary()"
      ],
      "execution_count": null,
      "outputs": [
        {
          "output_type": "stream",
          "text": [
            "Model: \"sequential\"\n",
            "_________________________________________________________________\n",
            "Layer (type)                 Output Shape              Param #   \n",
            "=================================================================\n",
            "conv2d (Conv2D)              (None, 150, 150, 64)      1792      \n",
            "_________________________________________________________________\n",
            "conv2d_1 (Conv2D)            (None, 150, 150, 64)      36928     \n",
            "_________________________________________________________________\n",
            "batch_normalization (BatchNo (None, 150, 150, 64)      256       \n",
            "_________________________________________________________________\n",
            "max_pooling2d (MaxPooling2D) (None, 75, 75, 64)        0         \n",
            "_________________________________________________________________\n",
            "dropout (Dropout)            (None, 75, 75, 64)        0         \n",
            "_________________________________________________________________\n",
            "conv2d_2 (Conv2D)            (None, 75, 75, 128)       73856     \n",
            "_________________________________________________________________\n",
            "conv2d_3 (Conv2D)            (None, 75, 75, 128)       147584    \n",
            "_________________________________________________________________\n",
            "batch_normalization_1 (Batch (None, 75, 75, 128)       512       \n",
            "_________________________________________________________________\n",
            "max_pooling2d_1 (MaxPooling2 (None, 37, 37, 128)       0         \n",
            "_________________________________________________________________\n",
            "dropout_1 (Dropout)          (None, 37, 37, 128)       0         \n",
            "_________________________________________________________________\n",
            "conv2d_4 (Conv2D)            (None, 37, 37, 256)       295168    \n",
            "_________________________________________________________________\n",
            "conv2d_5 (Conv2D)            (None, 37, 37, 256)       590080    \n",
            "_________________________________________________________________\n",
            "batch_normalization_2 (Batch (None, 37, 37, 256)       1024      \n",
            "_________________________________________________________________\n",
            "max_pooling2d_2 (MaxPooling2 (None, 37, 18, 256)       0         \n",
            "_________________________________________________________________\n",
            "dropout_2 (Dropout)          (None, 37, 18, 256)       0         \n",
            "_________________________________________________________________\n",
            "dense (Dense)                (None, 37, 18, 256)       65792     \n",
            "_________________________________________________________________\n",
            "dropout_3 (Dropout)          (None, 37, 18, 256)       0         \n",
            "_________________________________________________________________\n",
            "time_distributed (TimeDistri (None, 37, 4608)          0         \n",
            "_________________________________________________________________\n",
            "bidirectional (Bidirectional (None, 64)                1188096   \n",
            "_________________________________________________________________\n",
            "dense_1 (Dense)              (None, 2)                 130       \n",
            "=================================================================\n",
            "Total params: 2,401,218\n",
            "Trainable params: 2,400,322\n",
            "Non-trainable params: 896\n",
            "_________________________________________________________________\n"
          ],
          "name": "stdout"
        }
      ]
    },
    {
      "cell_type": "code",
      "metadata": {
        "id": "jB0zKGV_kJ3F"
      },
      "source": [
        "_model.compile(loss='binary_crossentropy', optimizer='adam', metrics=['acc'])"
      ],
      "execution_count": null,
      "outputs": []
    },
    {
      "cell_type": "code",
      "metadata": {
        "colab": {
          "base_uri": "https://localhost:8080/"
        },
        "id": "RaWvEvY2kNJy",
        "outputId": "4ab86ade-143f-498c-fd8d-a7f139bc2f35"
      },
      "source": [
        "_callbacks = _get_callbacks('/vgg19-lstm-6')\r\n",
        "_history = _model.fit_generator(_data_augmentation,\r\n",
        "                                epochs = _epochs, \r\n",
        "                                validation_data = (_x_train, _y_train),\r\n",
        "                                verbose = 1, \r\n",
        "                                steps_per_epoch=_x_train.shape[0] // _batch_size, \r\n",
        "                                callbacks=_callbacks)"
      ],
      "execution_count": null,
      "outputs": [
        {
          "output_type": "stream",
          "text": [
            "/usr/local/lib/python3.7/dist-packages/tensorflow/python/keras/engine/training.py:1844: UserWarning: `Model.fit_generator` is deprecated and will be removed in a future version. Please use `Model.fit`, which supports generators.\n",
            "  warnings.warn('`Model.fit_generator` is deprecated and '\n"
          ],
          "name": "stderr"
        },
        {
          "output_type": "stream",
          "text": [
            "Epoch 1/10\n",
            "130/130 [==============================] - 2482s 19s/step - loss: 0.6435 - acc: 0.6435 - val_loss: 0.7645 - val_acc: 0.5000\n",
            "\n",
            "Epoch 00001: val_acc improved from -inf to 0.50000, saving model to /content/vgg19-lstm-6.hdf5\n",
            "Epoch 2/10\n",
            "130/130 [==============================] - 2514s 19s/step - loss: 0.6486 - acc: 0.6405 - val_loss: 0.6193 - val_acc: 0.8194\n",
            "\n",
            "Epoch 00002: val_acc improved from 0.50000 to 0.81944, saving model to /content/vgg19-lstm-6.hdf5\n",
            "Epoch 3/10\n",
            "130/130 [==============================] - 2520s 19s/step - loss: 0.5096 - acc: 0.8129 - val_loss: 0.9383 - val_acc: 0.5000\n",
            "\n",
            "Epoch 00003: val_acc did not improve from 0.81944\n",
            "Epoch 4/10\n",
            "130/130 [==============================] - 2525s 19s/step - loss: 0.2820 - acc: 0.9091 - val_loss: 0.6715 - val_acc: 0.5745\n",
            "\n",
            "Epoch 00004: val_acc did not improve from 0.81944\n",
            "Epoch 5/10\n",
            "130/130 [==============================] - 2540s 20s/step - loss: 0.1906 - acc: 0.9383 - val_loss: 1.1252 - val_acc: 0.5007\n",
            "\n",
            "Epoch 00005: val_acc did not improve from 0.81944\n",
            "Epoch 6/10\n",
            "130/130 [==============================] - 2534s 20s/step - loss: 0.1887 - acc: 0.9339 - val_loss: 0.3382 - val_acc: 0.9500\n",
            "\n",
            "Epoch 00006: val_acc improved from 0.81944 to 0.94995, saving model to /content/vgg19-lstm-6.hdf5\n",
            "Epoch 7/10\n",
            "130/130 [==============================] - 2501s 19s/step - loss: 0.1498 - acc: 0.9546 - val_loss: 0.0622 - val_acc: 0.9950\n",
            "\n",
            "Epoch 00007: val_acc improved from 0.94995 to 0.99497, saving model to /content/vgg19-lstm-6.hdf5\n",
            "Epoch 8/10\n",
            "130/130 [==============================] - 2498s 19s/step - loss: 0.1667 - acc: 0.9388 - val_loss: 1.6367 - val_acc: 0.5465\n",
            "\n",
            "Epoch 00008: val_acc did not improve from 0.99497\n",
            "Epoch 9/10\n",
            "130/130 [==============================] - 2496s 19s/step - loss: 0.1443 - acc: 0.9480 - val_loss: 0.0445 - val_acc: 0.9966\n",
            "\n",
            "Epoch 00009: val_acc improved from 0.99497 to 0.99665, saving model to /content/vgg19-lstm-6.hdf5\n",
            "Epoch 10/10\n",
            "130/130 [==============================] - 2499s 19s/step - loss: 0.1277 - acc: 0.9562 - val_loss: 2.1063 - val_acc: 0.5000\n",
            "\n",
            "Epoch 00010: val_acc did not improve from 0.99665\n"
          ],
          "name": "stdout"
        }
      ]
    },
    {
      "cell_type": "code",
      "metadata": {
        "colab": {
          "background_save": true
        },
        "id": "O1mqakqPkRtD"
      },
      "source": [
        "_model.evaluate(_x_train, _y_train)"
      ],
      "execution_count": null,
      "outputs": []
    },
    {
      "cell_type": "markdown",
      "metadata": {
        "id": "-hFhkUGp31_G"
      },
      "source": [
        "# BiGRU"
      ]
    },
    {
      "cell_type": "code",
      "metadata": {
        "colab": {
          "base_uri": "https://localhost:8080/"
        },
        "id": "7GbrzWdDLYkz",
        "outputId": "98e4e765-1b39-47fb-c254-0b13f72b3c48"
      },
      "source": [
        "from keras.models import Sequential\r\n",
        "from keras.layers import Conv2D, MaxPool2D, GlobalAveragePooling2D, BatchNormalization, Dense, Dropout, Flatten, LSTM, RepeatVector, TimeDistributed, Bidirectional, GRU\r\n",
        "\r\n",
        "# https://ieeexplore.ieee.org/stamp/stamp.jsp?arnumber=8502031 - page 8\r\n",
        "\r\n",
        "_model = Sequential()\r\n",
        "\r\n",
        "# layer 1-5\r\n",
        "_model.add(Conv2D(filters = 64, kernel_size = (3,3),padding = 'Same' , activation ='relu', input_shape =_input_shape))\r\n",
        "_model.add(Conv2D(filters = 64, kernel_size = (3,3),padding = 'Same' , activation ='relu'))\r\n",
        "_model.add(BatchNormalization())\r\n",
        "_model.add(MaxPool2D(pool_size=(2,2),strides=(2,2)))\r\n",
        "_model.add(Dropout(0.25))\r\n",
        "\r\n",
        "# layer 6 - 10\r\n",
        "_model.add(Conv2D(filters = 128, kernel_size = (3,3),padding = 'Same' , activation ='relu'))\r\n",
        "_model.add(Conv2D(filters = 128, kernel_size = (3,3),padding = 'Same' , activation ='relu'))\r\n",
        "_model.add(BatchNormalization())\r\n",
        "_model.add(MaxPool2D(pool_size=(2,2), strides=(2,2)))\r\n",
        "_model.add(Dropout(0.25))\r\n",
        "\r\n",
        "# layer 11 - 15\r\n",
        "_model.add(Conv2D(filters = 256, kernel_size = (3,3),padding = 'Same' , activation ='relu'))\r\n",
        "_model.add(Conv2D(filters = 256, kernel_size = (3,3),padding = 'Same' , activation ='relu'))\r\n",
        "_model.add(BatchNormalization())\r\n",
        "_model.add(MaxPool2D(pool_size=(1,2), strides=(1,2)))\r\n",
        "_model.add(Dropout(0.25))\r\n",
        "\r\n",
        "# layer 16 - 18 \r\n",
        "_model.add(Dense(256 , activation ='relu'))\r\n",
        "_model.add(Dropout(0.25))\r\n",
        "\r\n",
        "# layer 19\r\n",
        "_model.add(TimeDistributed(Flatten()))\r\n",
        "_model.add(Bidirectional(GRU(32, return_sequences=False)))\r\n",
        "\r\n",
        "# layer 20 - 22\r\n",
        "_model.add(Dense(2, activation = \"softmax\"))\r\n",
        "\r\n",
        "_model.summary()"
      ],
      "execution_count": null,
      "outputs": [
        {
          "output_type": "stream",
          "text": [
            "Model: \"sequential_2\"\n",
            "_________________________________________________________________\n",
            "Layer (type)                 Output Shape              Param #   \n",
            "=================================================================\n",
            "conv2d_6 (Conv2D)            (None, 150, 150, 64)      1792      \n",
            "_________________________________________________________________\n",
            "conv2d_7 (Conv2D)            (None, 150, 150, 64)      36928     \n",
            "_________________________________________________________________\n",
            "batch_normalization_4 (Batch (None, 150, 150, 64)      256       \n",
            "_________________________________________________________________\n",
            "max_pooling2d_3 (MaxPooling2 (None, 75, 75, 64)        0         \n",
            "_________________________________________________________________\n",
            "dropout_5 (Dropout)          (None, 75, 75, 64)        0         \n",
            "_________________________________________________________________\n",
            "conv2d_8 (Conv2D)            (None, 75, 75, 128)       73856     \n",
            "_________________________________________________________________\n",
            "conv2d_9 (Conv2D)            (None, 75, 75, 128)       147584    \n",
            "_________________________________________________________________\n",
            "batch_normalization_5 (Batch (None, 75, 75, 128)       512       \n",
            "_________________________________________________________________\n",
            "max_pooling2d_4 (MaxPooling2 (None, 37, 37, 128)       0         \n",
            "_________________________________________________________________\n",
            "dropout_6 (Dropout)          (None, 37, 37, 128)       0         \n",
            "_________________________________________________________________\n",
            "conv2d_10 (Conv2D)           (None, 37, 37, 256)       295168    \n",
            "_________________________________________________________________\n",
            "conv2d_11 (Conv2D)           (None, 37, 37, 256)       590080    \n",
            "_________________________________________________________________\n",
            "batch_normalization_6 (Batch (None, 37, 37, 256)       1024      \n",
            "_________________________________________________________________\n",
            "max_pooling2d_5 (MaxPooling2 (None, 37, 18, 256)       0         \n",
            "_________________________________________________________________\n",
            "dropout_7 (Dropout)          (None, 37, 18, 256)       0         \n",
            "_________________________________________________________________\n",
            "dense_3 (Dense)              (None, 37, 18, 256)       65792     \n",
            "_________________________________________________________________\n",
            "dropout_8 (Dropout)          (None, 37, 18, 256)       0         \n",
            "_________________________________________________________________\n",
            "time_distributed (TimeDistri (None, 37, 4608)          0         \n",
            "_________________________________________________________________\n",
            "bidirectional_3 (Bidirection (None, 64)                891264    \n",
            "_________________________________________________________________\n",
            "dense_4 (Dense)              (None, 2)                 130       \n",
            "=================================================================\n",
            "Total params: 2,104,386\n",
            "Trainable params: 2,103,490\n",
            "Non-trainable params: 896\n",
            "_________________________________________________________________\n"
          ],
          "name": "stdout"
        }
      ]
    },
    {
      "cell_type": "code",
      "metadata": {
        "id": "BUwHXdA-O5dF"
      },
      "source": [
        "_model.compile(loss='binary_crossentropy', optimizer='adam', metrics=['acc'])"
      ],
      "execution_count": null,
      "outputs": []
    },
    {
      "cell_type": "code",
      "metadata": {
        "colab": {
          "base_uri": "https://localhost:8080/"
        },
        "id": "GxVPtCNUO8g3",
        "outputId": "cc2dd3bf-76fa-40ae-8084-2d4b95599d67"
      },
      "source": [
        "_callbacks = _get_callbacks('/vgg19-lstm-1')\r\n",
        "_history = _model.fit_generator(_data_augmentation,\r\n",
        "                                epochs = _epochs, \r\n",
        "                                validation_data = (_x_train, _y_train),\r\n",
        "                                verbose = 1, \r\n",
        "                                steps_per_epoch=_x_train.shape[0] // _batch_size, \r\n",
        "                                callbacks=_callbacks)"
      ],
      "execution_count": null,
      "outputs": [
        {
          "output_type": "stream",
          "text": [
            "/usr/local/lib/python3.7/dist-packages/tensorflow/python/keras/engine/training.py:1844: UserWarning: `Model.fit_generator` is deprecated and will be removed in a future version. Please use `Model.fit`, which supports generators.\n",
            "  warnings.warn('`Model.fit_generator` is deprecated and '\n"
          ],
          "name": "stderr"
        },
        {
          "output_type": "stream",
          "text": [
            "Epoch 1/10\n",
            "130/130 [==============================] - 2162s 17s/step - loss: 0.6214 - acc: 0.6769 - val_loss: 0.9615 - val_acc: 0.5005\n",
            "\n",
            "Epoch 00001: val_acc improved from -inf to 0.50048, saving model to /content/vgg19-lstm-1.hdf5\n",
            "Epoch 2/10\n",
            "130/130 [==============================] - 2165s 17s/step - loss: 0.2827 - acc: 0.9013 - val_loss: 1.1465 - val_acc: 0.5002\n",
            "\n",
            "Epoch 00002: val_acc did not improve from 0.50048\n",
            "Epoch 3/10\n",
            "130/130 [==============================] - 2176s 17s/step - loss: 0.1893 - acc: 0.9416 - val_loss: 0.8520 - val_acc: 0.7028\n",
            "\n",
            "Epoch 00003: val_acc improved from 0.50048 to 0.70283, saving model to /content/vgg19-lstm-1.hdf5\n",
            "Epoch 4/10\n",
            "130/130 [==============================] - 2180s 17s/step - loss: 0.1444 - acc: 0.9521 - val_loss: 1.6817 - val_acc: 0.5419\n",
            "\n",
            "Epoch 00004: val_acc did not improve from 0.70283\n",
            "Epoch 5/10\n",
            "130/130 [==============================] - 2176s 17s/step - loss: 0.1389 - acc: 0.9517 - val_loss: 0.2397 - val_acc: 0.9059\n",
            "\n",
            "Epoch 00005: val_acc improved from 0.70283 to 0.90589, saving model to /content/vgg19-lstm-1.hdf5\n",
            "Epoch 6/10\n",
            "130/130 [==============================] - 2164s 17s/step - loss: 0.1265 - acc: 0.9613 - val_loss: 0.0330 - val_acc: 0.9931\n",
            "\n",
            "Epoch 00006: val_acc improved from 0.90589 to 0.99306, saving model to /content/vgg19-lstm-1.hdf5\n",
            "Epoch 7/10\n",
            "130/130 [==============================] - 2167s 17s/step - loss: 0.1195 - acc: 0.9536 - val_loss: 0.0648 - val_acc: 0.9842\n",
            "\n",
            "Epoch 00007: val_acc did not improve from 0.99306\n",
            "Epoch 8/10\n",
            "130/130 [==============================] - 2151s 17s/step - loss: 0.0895 - acc: 0.9720 - val_loss: 3.0200 - val_acc: 0.5000\n",
            "\n",
            "Epoch 00008: val_acc did not improve from 0.99306\n",
            "Epoch 9/10\n",
            "130/130 [==============================] - 2118s 16s/step - loss: 0.1132 - acc: 0.9630 - val_loss: 0.0345 - val_acc: 0.9868\n",
            "\n",
            "Epoch 00009: val_acc did not improve from 0.99306\n",
            "Epoch 10/10\n",
            "130/130 [==============================] - 2121s 16s/step - loss: 0.0930 - acc: 0.9652 - val_loss: 0.0214 - val_acc: 0.9945\n",
            "\n",
            "Epoch 00010: val_acc improved from 0.99306 to 0.99449, saving model to /content/vgg19-lstm-1.hdf5\n"
          ],
          "name": "stdout"
        }
      ]
    },
    {
      "cell_type": "code",
      "metadata": {
        "colab": {
          "base_uri": "https://localhost:8080/"
        },
        "id": "He8Tn94IO-4p",
        "outputId": "131c5efb-1b24-4991-c563-0a33a352fd38"
      },
      "source": [
        "_model.evaluate(_x_train, _y_train)"
      ],
      "execution_count": null,
      "outputs": [
        {
          "output_type": "stream",
          "text": [
            "131/131 [==============================] - 461s 4s/step - loss: 0.0214 - acc: 0.9945\n"
          ],
          "name": "stdout"
        },
        {
          "output_type": "execute_result",
          "data": {
            "text/plain": [
              "[0.021358083933591843, 0.9944923520088196]"
            ]
          },
          "metadata": {
            "tags": []
          },
          "execution_count": 25
        }
      ]
    },
    {
      "cell_type": "code",
      "metadata": {
        "colab": {
          "base_uri": "https://localhost:8080/"
        },
        "id": "SdqYz90Dxi4P",
        "outputId": "796fb928-d0bf-437f-fda2-67a2453feeb8"
      },
      "source": [
        "_parkinson_image = select_image('/content/data/parkinson/img_1_1.png')\r\n",
        "_parkinson_image = np.array([_parkinson_image]) / 255.0\r\n",
        "_model.predict(_parkinson_image)"
      ],
      "execution_count": null,
      "outputs": [
        {
          "output_type": "execute_result",
          "data": {
            "text/plain": [
              "array([[7.8957271e-07, 9.9999917e-01]], dtype=float32)"
            ]
          },
          "metadata": {
            "tags": []
          },
          "execution_count": 26
        }
      ]
    },
    {
      "cell_type": "code",
      "metadata": {
        "colab": {
          "base_uri": "https://localhost:8080/"
        },
        "id": "qJnqrupkyEZO",
        "outputId": "bad41def-fad0-4b20-e966-5dd1af00e47d"
      },
      "source": [
        "_normal_image = select_image('/content/data/normal/001-cl-01-090-046.png')\r\n",
        "_normal_image = np.array([_normal_image]) / 255.0\r\n",
        "_model.predict(_normal_image)"
      ],
      "execution_count": null,
      "outputs": [
        {
          "output_type": "execute_result",
          "data": {
            "text/plain": [
              "array([[9.9919122e-01, 8.0880243e-04]], dtype=float32)"
            ]
          },
          "metadata": {
            "tags": []
          },
          "execution_count": 27
        }
      ]
    }
  ]
}